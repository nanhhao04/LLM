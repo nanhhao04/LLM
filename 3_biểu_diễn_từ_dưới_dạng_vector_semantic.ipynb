{
  "nbformat": 4,
  "nbformat_minor": 0,
  "metadata": {
    "colab": {
      "provenance": []
    },
    "kernelspec": {
      "name": "python3",
      "display_name": "Python 3"
    },
    "language_info": {
      "name": "python"
    }
  },
  "cells": [
    {
      "cell_type": "markdown",
      "source": [
        "# 1. One hot encoding\n",
        "- mỗi từ được biểu diễn bằng 1 vecto nhị phân, chỉ có 1 phần tử 1, còn lại là phần từ 0\n"
      ],
      "metadata": {
        "id": "p_0BKSuqiCBU"
      }
    },
    {
      "cell_type": "code",
      "execution_count": 2,
      "metadata": {
        "colab": {
          "base_uri": "https://localhost:8080/"
        },
        "id": "DR8CkdBXu4tV",
        "outputId": "d4068cd4-b32e-4df5-ce9b-a34fe43dfcb6"
      },
      "outputs": [
        {
          "output_type": "stream",
          "name": "stdout",
          "text": [
            "tôi: [0. 0. 1. 0. 0.]\n",
            "ăn: [0. 0. 0. 0. 1.]\n",
            "cơm: [0. 1. 0. 0. 0.]\n",
            "với: [0. 0. 0. 1. 0.]\n",
            "bạn: [1. 0. 0. 0. 0.]\n"
          ]
        }
      ],
      "source": [
        "from sklearn.preprocessing import OneHotEncoder\n",
        "import numpy as np\n",
        "\n",
        "# Danh sách các từ\n",
        "vocab = [\"tôi\", \"ăn\", \"cơm\", \"với\", \"bạn\"]\n",
        "\n",
        "# Chuyển thành mảng 2D\n",
        "words = np.array(vocab).reshape(-1, 1)\n",
        "\n",
        "# Khởi tạo bộ mã hóa One-Hot\n",
        "encoder = OneHotEncoder(sparse_output=False)\n",
        "one_hot_vectors = encoder.fit_transform(words)\n",
        "\n",
        "# Hiển thị kết quả\n",
        "for word, vector in zip(vocab, one_hot_vectors):\n",
        "    print(f\"{word}: {vector}\")\n"
      ]
    },
    {
      "cell_type": "markdown",
      "source": [
        "# 2. Bag of words (BoW)\n",
        "- Chuyển câu thành vecto nhị phân, các từ có trong từ điển sẽ là 1, không có sẽ là 0\n"
      ],
      "metadata": {
        "id": "v1SG-J7tiwTE"
      }
    },
    {
      "cell_type": "code",
      "source": [
        "from sklearn.feature_extraction.text import CountVectorizer\n",
        "\n",
        "# Tập dữ liệu văn bản\n",
        "sentences = [\"tôi thích ăn cơm\", \"tôi ăn cơm với bạn\"]\n",
        "\n",
        "# Khởi tạo BoW\n",
        "vectorizer = CountVectorizer()\n",
        "X = vectorizer.fit_transform(sentences)\n",
        "\n",
        "# Hiển thị kết quả\n",
        "print(\"Từ điển:\", vectorizer.get_feature_names_out())\n",
        "print(\"Ma trận BoW:\\n\", X.toarray())\n"
      ],
      "metadata": {
        "colab": {
          "base_uri": "https://localhost:8080/"
        },
        "id": "uQh_JDwQrnUW",
        "outputId": "f0c8c6ef-82e2-4807-8ddd-b7586488d696"
      },
      "execution_count": 3,
      "outputs": [
        {
          "output_type": "stream",
          "name": "stdout",
          "text": [
            "Từ điển: ['bạn' 'cơm' 'thích' 'tôi' 'với' 'ăn']\n",
            "Ma trận BoW:\n",
            " [[0 1 1 1 0 1]\n",
            " [1 1 0 1 1 1]]\n"
          ]
        }
      ]
    },
    {
      "cell_type": "markdown",
      "source": [
        "# 3. TF-IDF\n",
        "- đánh trọng số dựa trên tầm quan trọng của từ.\n",
        "- công thực : TF-IDF = TF x IDF\n",
        "1.   TF là tần suất xuất hiện trong câu\n",
        "2.   IDF giảm trọng số của những từ xuất hiện quá phổ biến trong nhiều tài liệu\n",
        "\n",
        "\n",
        "\n"
      ],
      "metadata": {
        "id": "0_x8UddTr4E0"
      }
    },
    {
      "cell_type": "code",
      "source": [
        "from sklearn.feature_extraction.text import TfidfVectorizer\n",
        "\n",
        "# Tập dữ liệu văn bản\n",
        "sentences = [\"tôi thích ăn cơm\", \"tôi ăn cơm với bạn\"]\n",
        "\n",
        "# Khởi tạo TF-IDF\n",
        "vectorizer = TfidfVectorizer()\n",
        "X = vectorizer.fit_transform(sentences)\n",
        "\n",
        "# Hiển thị kết quả\n",
        "print(\"Từ điển:\", vectorizer.get_feature_names_out())\n",
        "print(\"Ma trận TF-IDF:\\n\", X.toarray())\n"
      ],
      "metadata": {
        "colab": {
          "base_uri": "https://localhost:8080/"
        },
        "id": "1SKpBRcWr7VF",
        "outputId": "1732a320-23da-437d-af39-03464ba40ff2"
      },
      "execution_count": 4,
      "outputs": [
        {
          "output_type": "stream",
          "name": "stdout",
          "text": [
            "Từ điển: ['bạn' 'cơm' 'thích' 'tôi' 'với' 'ăn']\n",
            "Ma trận TF-IDF:\n",
            " [[0.         0.44832087 0.63009934 0.44832087 0.         0.44832087]\n",
            " [0.53309782 0.37930349 0.         0.37930349 0.53309782 0.37930349]]\n"
          ]
        }
      ]
    },
    {
      "cell_type": "markdown",
      "source": [
        "# 4. Word2Vec\n",
        "-"
      ],
      "metadata": {
        "id": "nlwviGI4tWMF"
      }
    },
    {
      "cell_type": "code",
      "source": [
        "pip install gensim\n"
      ],
      "metadata": {
        "colab": {
          "base_uri": "https://localhost:8080/"
        },
        "id": "2KSzlBW2R_tt",
        "outputId": "01319123-3521-4b77-bead-da5a42c94f8c"
      },
      "execution_count": 1,
      "outputs": [
        {
          "output_type": "stream",
          "name": "stdout",
          "text": [
            "Requirement already satisfied: gensim in /usr/local/lib/python3.11/dist-packages (4.3.3)\n",
            "Requirement already satisfied: numpy<2.0,>=1.18.5 in /usr/local/lib/python3.11/dist-packages (from gensim) (1.26.4)\n",
            "Requirement already satisfied: scipy<1.14.0,>=1.7.0 in /usr/local/lib/python3.11/dist-packages (from gensim) (1.13.1)\n",
            "Requirement already satisfied: smart-open>=1.8.1 in /usr/local/lib/python3.11/dist-packages (from gensim) (7.1.0)\n",
            "Requirement already satisfied: wrapt in /usr/local/lib/python3.11/dist-packages (from smart-open>=1.8.1->gensim) (1.17.2)\n"
          ]
        }
      ]
    },
    {
      "cell_type": "code",
      "source": [
        "from gensim.models import Word2Vec\n",
        "\n",
        "# Tập dữ liệu\n",
        "sentences = [\n",
        "    [\"tôi\", \"thích\", \"ăn\", \"cơm\"],\n",
        "    [\"tôi\", \"ăn\", \"cơm\", \"với\", \"bạn\"]\n",
        "]\n",
        "\n",
        "# Huấn luyện Word2Vec (CBOW)\n",
        "model = Word2Vec(sentences, vector_size=10, window=2, min_count=1, sg=0)\n",
        "\n",
        "# Hiển thị vector của từ \"cơm\"\n",
        "print(\"Vector của từ 'cơm':\\n\", model.wv[\"cơm\"])\n",
        "\n",
        "# Tìm từ gần nhất với \"cơm\"\n",
        "print(\"Từ gần nghĩa với 'cơm':\", model.wv.most_similar(\"cơm\"))\n"
      ],
      "metadata": {
        "colab": {
          "base_uri": "https://localhost:8080/"
        },
        "id": "Mhhk1kA4OmK-",
        "outputId": "99b943de-fc98-446a-9aa4-e384adbbbbd1"
      },
      "execution_count": 2,
      "outputs": [
        {
          "output_type": "stream",
          "name": "stdout",
          "text": [
            "Vector của từ 'cơm':\n",
            " [-0.00536227  0.00236431  0.0510335   0.09009273 -0.0930295  -0.07116809\n",
            "  0.06458873  0.08972988 -0.05015428 -0.03763372]\n",
            "Từ gần nghĩa với 'cơm': [('ăn', 0.5436005592346191), ('tôi', 0.3004249036312103), ('bạn', 0.10494352877140045), ('với', -0.22418655455112457), ('thích', -0.2726020812988281)]\n"
          ]
        }
      ]
    },
    {
      "cell_type": "markdown",
      "source": [
        "# 5. Cosine similarity\n",
        "- Cách tính:\n",
        "Bằng tích vô hướng của 2 vecto / tích độ dài 2 vecto\n"
      ],
      "metadata": {
        "id": "U3dzxaDrSf95"
      }
    },
    {
      "cell_type": "code",
      "source": [
        "from sklearn.metrics.pairwise import cosine_similarity\n",
        "import numpy as np\n",
        "\n",
        "# Giả sử có hai vector từ mô hình Word2Vec\n",
        "vector_com = np.array([0.5, 0.2, 0.7])\n",
        "vector_food = np.array([0.6, 0.3, 0.8])\n",
        "\n",
        "# Tính cosine similarity\n",
        "similarity = cosine_similarity([vector_com], [vector_food])\n",
        "\n",
        "print(\"Độ tương đồng giữa 'cơm' và 'thức ăn':\", similarity[0][0])\n"
      ],
      "metadata": {
        "colab": {
          "base_uri": "https://localhost:8080/"
        },
        "id": "Yy_zkNd8SlFE",
        "outputId": "23c03886-f490-45a0-da24-c9eae33076d1"
      },
      "execution_count": 3,
      "outputs": [
        {
          "output_type": "stream",
          "name": "stdout",
          "text": [
            "Độ tương đồng giữa 'cơm' và 'thức ăn': 0.9977627290194656\n"
          ]
        }
      ]
    }
  ]
}