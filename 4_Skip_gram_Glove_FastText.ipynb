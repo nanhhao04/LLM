{
  "nbformat": 4,
  "nbformat_minor": 0,
  "metadata": {
    "colab": {
      "provenance": []
    },
    "kernelspec": {
      "name": "python3",
      "display_name": "Python 3"
    },
    "language_info": {
      "name": "python"
    }
  },
  "cells": [
    {
      "cell_type": "markdown",
      "source": [
        "# 1. Skip Gram\n",
        "- Skip-Gram là một trong hai mô hình chính của Word2Vec (mô hình còn lại là CBOW). Skip-Gram dự đoán các từ xung quanh dựa trên từ trung tâm.\n",
        "- Công thức xác suất:\n",
        "- vwo là vector từ trung tâm, vwi là vector từ dự đoán\n",
        "\n",
        "![1.jpeg](data:image/jpeg;base64,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)\n",
        "\n",
        "\n",
        "\n"
      ],
      "metadata": {
        "id": "aF3wb7PaYmDu"
      }
    },
    {
      "cell_type": "code",
      "execution_count": 1,
      "metadata": {
        "id": "LIADS0mlTJdM",
        "colab": {
          "base_uri": "https://localhost:8080/"
        },
        "outputId": "9c598721-f166-467c-ca0e-6df35741d541"
      },
      "outputs": [
        {
          "output_type": "stream",
          "name": "stdout",
          "text": [
            "Vector của từ 'cơm':\n",
            " [-0.0960355   0.05007293 -0.08759586 -0.04391825 -0.000351   -0.00296181\n",
            " -0.0766124   0.09614743  0.04982058  0.09233143]\n",
            "Từ gần nghĩa với 'cơm': [('phê', 0.613976240158081), ('nay', 0.2495344579219818), ('với', 0.14170897006988525), ('thích', 0.1116870790719986), ('buổi', 0.04264766350388527), ('vào', 0.02682802826166153), ('phở', -0.06571343541145325), ('ăn', -0.22418658435344696), ('cà', -0.2879446744918823), ('uống', -0.3018490970134735)]\n"
          ]
        }
      ],
      "source": [
        "from gensim.models import Word2Vec\n",
        "\n",
        "# Dữ liệu mẫu\n",
        "sentences = [\n",
        "    [\"tôi\", \"thích\", \"ăn\", \"cơm\"],\n",
        "    [\"tôi\", \"ăn\", \"cơm\", \"với\", \"bạn\"],\n",
        "    [\"bạn\", \"ăn\", \"phở\", \"vào\", \"buổi\", \"sáng\"],\n",
        "    [\"tôi\", \"uống\", \"cà\", \"phê\", \"sáng\", \"nay\"]\n",
        "]\n",
        "\n",
        "# Huấn luyện Skip-Gram (sg=1)\n",
        "model = Word2Vec(sentences, vector_size=10, window=2, min_count=1, sg=1)\n",
        "\n",
        "# Vector của từ \"cơm\"\n",
        "print(\"Vector của từ 'cơm':\\n\", model.wv[\"cơm\"])\n",
        "\n",
        "# Từ gần nghĩa với \"cơm\"\n",
        "print(\"Từ gần nghĩa với 'cơm':\", model.wv.most_similar(\"cơm\"))\n"
      ]
    },
    {
      "cell_type": "markdown",
      "source": [
        "# 2. Glove\n",
        "- sử dụng thống kê toàn cục của từ trong tập dữ liệu.\n",
        "- Ý tưởng: Xác định ma trận xuất hiện Xij của 2 từ thứ i j trong văn bản. Ánh xạ log(Xij) sang tích của 2 ma trận wi và wj."
      ],
      "metadata": {
        "id": "F0cRse7ObRRh"
      }
    },
    {
      "cell_type": "code",
      "source": [
        "pip install --upgrade pip setuptools wheel\n"
      ],
      "metadata": {
        "colab": {
          "base_uri": "https://localhost:8080/"
        },
        "id": "xRRr2KcfeO3c",
        "outputId": "52bac41d-f714-4c49-8522-1ae1c9a16eca"
      },
      "execution_count": 14,
      "outputs": [
        {
          "output_type": "stream",
          "name": "stdout",
          "text": [
            "Requirement already satisfied: pip in /usr/local/lib/python3.11/dist-packages (25.0.1)\n",
            "Requirement already satisfied: setuptools in /usr/local/lib/python3.11/dist-packages (75.8.0)\n",
            "Requirement already satisfied: wheel in /usr/local/lib/python3.11/dist-packages (0.45.1)\n"
          ]
        }
      ]
    },
    {
      "cell_type": "code",
      "source": [
        "pip install glove\n"
      ],
      "metadata": {
        "id": "WPFwAfmub8re"
      },
      "execution_count": null,
      "outputs": []
    },
    {
      "cell_type": "code",
      "source": [
        "from glove import Corpus, Glove\n",
        "\n",
        "# Dữ liệu huấn luyện\n",
        "sentences = [\n",
        "    [\"tôi\", \"thích\", \"ăn\", \"cơm\"],\n",
        "    [\"tôi\", \"ăn\", \"cơm\", \"với\", \"bạn\"],\n",
        "    [\"bạn\", \"ăn\", \"phở\", \"vào\", \"buổi\", \"sáng\"],\n",
        "    [\"tôi\", \"uống\", \"cà\", \"phê\", \"sáng\", \"nay\"]\n",
        "]\n",
        "\n",
        "# Xây dựng từ điển và ma trận đồng xuất hiện\n",
        "corpus = Corpus()\n",
        "corpus.fit(sentences, window=2)\n",
        "\n",
        "# Huấn luyện mô hình GloVe\n",
        "glove = Glove(no_components=10, learning_rate=0.05)\n",
        "glove.fit(corpus.matrix, epochs=20, no_threads=4, verbose=True)\n",
        "glove.add_dictionary(corpus.dictionary)\n",
        "\n",
        "# Từ gần nghĩa với \"cơm\"\n",
        "print(\"Từ gần nghĩa với 'cơm':\", glove.most_similar(\"cơm\"))\n"
      ],
      "metadata": {
        "id": "ZStnp5yFbRaG"
      },
      "execution_count": null,
      "outputs": []
    },
    {
      "cell_type": "markdown",
      "source": [
        "# 3. Thư viện FastText\n",
        "- Mở rộng của Word2Vec, sử dụng subword embeddings, giúp tính các vecto của từ chưa xuất hiện trong dữ liệu huấn luyện ( khác W2V )"
      ],
      "metadata": {
        "id": "chcEAQnKgtAj"
      }
    },
    {
      "cell_type": "code",
      "source": [
        "from gensim.models import FastText\n",
        "\n",
        "# Dữ liệu mẫu\n",
        "sentences = [\n",
        "    [\"tôi\", \"thích\", \"ăn\", \"cơm\"],\n",
        "    [\"tôi\", \"ăn\", \"cơm\", \"với\", \"bạn\"],\n",
        "    [\"bạn\", \"ăn\", \"phở\", \"vào\", \"buổi\", \"sáng\"],\n",
        "    [\"tôi\", \"uống\", \"cà\", \"phê\", \"sáng\", \"nay\"]\n",
        "]\n",
        "\n",
        "# Huấn luyện FastText\n",
        "model = FastText(sentences, vector_size=10, window=2, min_count=1, sg=1)\n",
        "\n",
        "# Kiểm tra từ không có trong tập dữ liệu\n",
        "print(\"Vector của từ 'bánh':\\n\", model.wv[\"bánh\"])\n"
      ],
      "metadata": {
        "colab": {
          "base_uri": "https://localhost:8080/"
        },
        "id": "Z6GMLNeFfrUj",
        "outputId": "41e25c09-c531-4820-e96c-da46bdaf980d"
      },
      "execution_count": 20,
      "outputs": [
        {
          "output_type": "stream",
          "name": "stdout",
          "text": [
            "Vector của từ 'bánh':\n",
            " [-0.0107413   0.00669303  0.00703728 -0.00647398 -0.00214747  0.03190001\n",
            " -0.02275628  0.02040248  0.00093849 -0.02072546]\n"
          ]
        }
      ]
    },
    {
      "cell_type": "markdown",
      "source": [
        "# 4. Hierarchical Softmax\n",
        "\n"
      ],
      "metadata": {
        "id": "abLLebwzhTsq"
      }
    }
  ]
}